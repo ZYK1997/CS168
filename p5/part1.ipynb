{
 "cells": [
  {
   "cell_type": "code",
   "execution_count": 1,
   "metadata": {},
   "outputs": [],
   "source": [
    "import csv\n",
    "import numpy as np"
   ]
  },
  {
   "cell_type": "code",
   "execution_count": 26,
   "metadata": {},
   "outputs": [],
   "source": [
    "from matplotlib import pyplot as plt"
   ]
  },
  {
   "cell_type": "code",
   "execution_count": 2,
   "metadata": {},
   "outputs": [],
   "source": [
    "n = 10000"
   ]
  },
  {
   "cell_type": "code",
   "execution_count": 3,
   "metadata": {},
   "outputs": [],
   "source": [
    "M = np.zeros((n, n))"
   ]
  },
  {
   "cell_type": "code",
   "execution_count": 4,
   "metadata": {},
   "outputs": [],
   "source": [
    "with open('co_occur.csv') as f:\n",
    "    ls = csv.reader(f)\n",
    "    for (i, row) in enumerate(ls):\n",
    "        for j in range(n):\n",
    "            M[i, j] = np.log(1 + float(row[j]))"
   ]
  },
  {
   "cell_type": "code",
   "execution_count": 17,
   "metadata": {},
   "outputs": [
    {
     "ename": "MemoryError",
     "evalue": "",
     "output_type": "error",
     "traceback": [
      "\u001b[1;31m---------------------------------------------------------------------------\u001b[0m",
      "\u001b[1;31mMemoryError\u001b[0m                               Traceback (most recent call last)",
      "\u001b[1;32m<ipython-input-17-0d43dfb9231b>\u001b[0m in \u001b[0;36m<module>\u001b[1;34m()\u001b[0m\n\u001b[1;32m----> 1\u001b[1;33m \u001b[0mU\u001b[0m\u001b[1;33m,\u001b[0m \u001b[0mS\u001b[0m\u001b[1;33m,\u001b[0m \u001b[0mVh\u001b[0m \u001b[1;33m=\u001b[0m \u001b[0mnp\u001b[0m\u001b[1;33m.\u001b[0m\u001b[0mlinalg\u001b[0m\u001b[1;33m.\u001b[0m\u001b[0msvd\u001b[0m\u001b[1;33m(\u001b[0m\u001b[0mM\u001b[0m\u001b[1;33m)\u001b[0m\u001b[1;33m\u001b[0m\u001b[0m\n\u001b[0m",
      "\u001b[1;32m~\\AppData\\Roaming\\Python\\Python36\\site-packages\\numpy\\linalg\\linalg.py\u001b[0m in \u001b[0;36msvd\u001b[1;34m(a, full_matrices, compute_uv)\u001b[0m\n\u001b[0;32m   1442\u001b[0m \u001b[1;33m\u001b[0m\u001b[0m\n\u001b[0;32m   1443\u001b[0m         \u001b[0msignature\u001b[0m \u001b[1;33m=\u001b[0m \u001b[1;34m'D->DdD'\u001b[0m \u001b[1;32mif\u001b[0m \u001b[0misComplexType\u001b[0m\u001b[1;33m(\u001b[0m\u001b[0mt\u001b[0m\u001b[1;33m)\u001b[0m \u001b[1;32melse\u001b[0m \u001b[1;34m'd->ddd'\u001b[0m\u001b[1;33m\u001b[0m\u001b[0m\n\u001b[1;32m-> 1444\u001b[1;33m         \u001b[0mu\u001b[0m\u001b[1;33m,\u001b[0m \u001b[0ms\u001b[0m\u001b[1;33m,\u001b[0m \u001b[0mvh\u001b[0m \u001b[1;33m=\u001b[0m \u001b[0mgufunc\u001b[0m\u001b[1;33m(\u001b[0m\u001b[0ma\u001b[0m\u001b[1;33m,\u001b[0m \u001b[0msignature\u001b[0m\u001b[1;33m=\u001b[0m\u001b[0msignature\u001b[0m\u001b[1;33m,\u001b[0m \u001b[0mextobj\u001b[0m\u001b[1;33m=\u001b[0m\u001b[0mextobj\u001b[0m\u001b[1;33m)\u001b[0m\u001b[1;33m\u001b[0m\u001b[0m\n\u001b[0m\u001b[0;32m   1445\u001b[0m         \u001b[0mu\u001b[0m \u001b[1;33m=\u001b[0m \u001b[0mu\u001b[0m\u001b[1;33m.\u001b[0m\u001b[0mastype\u001b[0m\u001b[1;33m(\u001b[0m\u001b[0mresult_t\u001b[0m\u001b[1;33m,\u001b[0m \u001b[0mcopy\u001b[0m\u001b[1;33m=\u001b[0m\u001b[1;32mFalse\u001b[0m\u001b[1;33m)\u001b[0m\u001b[1;33m\u001b[0m\u001b[0m\n\u001b[0;32m   1446\u001b[0m         \u001b[0ms\u001b[0m \u001b[1;33m=\u001b[0m \u001b[0ms\u001b[0m\u001b[1;33m.\u001b[0m\u001b[0mastype\u001b[0m\u001b[1;33m(\u001b[0m\u001b[0m_realType\u001b[0m\u001b[1;33m(\u001b[0m\u001b[0mresult_t\u001b[0m\u001b[1;33m)\u001b[0m\u001b[1;33m,\u001b[0m \u001b[0mcopy\u001b[0m\u001b[1;33m=\u001b[0m\u001b[1;32mFalse\u001b[0m\u001b[1;33m)\u001b[0m\u001b[1;33m\u001b[0m\u001b[0m\n",
      "\u001b[1;31mMemoryError\u001b[0m: "
     ]
    }
   ],
   "source": [
    "U, S, Vh = np.linalg.svd(M)"
   ]
  },
  {
   "cell_type": "code",
   "execution_count": 18,
   "metadata": {},
   "outputs": [],
   "source": [
    "def K_approximation(K):\n",
    "    u = U[:, :K]\n",
    "    s = S[:K]\n",
    "    vh = Vh[:K, :]\n",
    "    \n",
    "    with open('u.csv','wb') as f:    \n",
    "        myWriter=csv.writer(f)\n",
    "        for i in range(n):\n",
    "            myWriter.writerow(u[i, :])\n",
    "    with open('s.csv','wb') as f:    \n",
    "        myWriter=csv.writer(f)\n",
    "        for i in range(K):\n",
    "            myWriter.writerow(s[i])\n",
    "    with open('vh.csv','wb') as f:    \n",
    "        myWriter=csv.writer(f)\n",
    "        for i in range(K):\n",
    "            myWriter.writerow(u[i, :])"
   ]
  },
  {
   "cell_type": "code",
   "execution_count": null,
   "metadata": {},
   "outputs": [],
   "source": [
    "K_approximation(100)"
   ]
  },
  {
   "cell_type": "code",
   "execution_count": 5,
   "metadata": {},
   "outputs": [],
   "source": [
    "def readSVD():\n",
    "    u = np.zeros((n, 100))\n",
    "    s = np.zeros((100,))\n",
    "    vh = np.zeros((100, n))\n",
    "    \n",
    "    f = open(\"u.csv\")\n",
    "    ls = list(csv.reader(f))\n",
    "    for i in range(n):\n",
    "        for j in range(100):\n",
    "            u[i, j] = ls[i][j]\n",
    "    \n",
    "    f = open(\"s.csv\")\n",
    "    ls = list(csv.reader(f))\n",
    "    for i in range(100):\n",
    "        s[i] = ls[i][0]\n",
    "    \n",
    "    f = open(\"vh.csv\")\n",
    "    ls = list(csv.reader(f))\n",
    "    for i in range(100):\n",
    "        for j in range(n):\n",
    "            vh[i, j] = ls[i][j]\n",
    "    \n",
    "    return u, s, vh"
   ]
  },
  {
   "cell_type": "code",
   "execution_count": 6,
   "metadata": {},
   "outputs": [],
   "source": [
    "u, s, vh = readSVD()"
   ]
  },
  {
   "cell_type": "code",
   "execution_count": 7,
   "metadata": {},
   "outputs": [],
   "source": [
    "def find_closest(x):\n",
    "    projection = [(0, 0) for i in range(n)]\n",
    "    for i in range(n):\n",
    "        y = M[i]\n",
    "        projection[i] = (abs(sum(x * y)), i)\n",
    "    projection.sort()\n",
    "    return projection[:10], projection[-10:]"
   ]
  },
  {
   "cell_type": "code",
   "execution_count": 8,
   "metadata": {},
   "outputs": [
    {
     "data": {
      "text/plain": [
       "([(12.663322220058058, 6823),\n",
       "  (14.605295068948537, 9803),\n",
       "  (16.357550170720117, 2808),\n",
       "  (21.111754621181216, 9859),\n",
       "  (24.4857941914863, 4610),\n",
       "  (24.591252786577034, 9548),\n",
       "  (26.704135597947243, 8785),\n",
       "  (27.76571462832326, 9276),\n",
       "  (28.67588979258664, 6070),\n",
       "  (31.38198744057669, 6651)],\n",
       " [(629.0287007715087, 5),\n",
       "  (631.7003054196559, 11),\n",
       "  (631.8589240485879, 6),\n",
       "  (632.8805341344008, 9),\n",
       "  (641.7830265553713, 7),\n",
       "  (707.2729728027776, 4),\n",
       "  (744.1258719654545, 2),\n",
       "  (756.6626287028794, 1),\n",
       "  (772.0137338872685, 3),\n",
       "  (825.8920926453885, 0)])"
      ]
     },
     "execution_count": 8,
     "metadata": {},
     "output_type": "execute_result"
    }
   ],
   "source": [
    "find_closest(u[:, 0])"
   ]
  },
  {
   "cell_type": "code",
   "execution_count": 11,
   "metadata": {},
   "outputs": [],
   "source": [
    "dictionary = []\n",
    "with open(\"dictionary.txt\") as f:\n",
    "    global dictionary\n",
    "    dictionary = f.readlines()\n",
    "    dictionary = list(map(lambda l: l.strip(), dictionary))"
   ]
  },
  {
   "cell_type": "code",
   "execution_count": 14,
   "metadata": {},
   "outputs": [],
   "source": [
    "def get_closest_words(x):\n",
    "    p1, p2 = find_closest(x)\n",
    "    w1 = []\n",
    "    w2 = []\n",
    "    for i in range(10):\n",
    "        w1.append(dictionary[p1[i][1]])\n",
    "        w2.append(dictionary[p2[i][1]])\n",
    "    return w1, w2"
   ]
  },
  {
   "cell_type": "code",
   "execution_count": 15,
   "metadata": {},
   "outputs": [],
   "source": [
    "def part1_c():\n",
    "    for i in range(5):\n",
    "        x = u[:, i]\n",
    "        w1, w2 = get_closest_words(x)\n",
    "        print(\"For vector {}, the most similar words are {}\".format(i, w1))\n",
    "        print(\"For vector {}, the least similar words are {}\".format(i, w2))"
   ]
  },
  {
   "cell_type": "code",
   "execution_count": 16,
   "metadata": {},
   "outputs": [
    {
     "name": "stdout",
     "output_type": "stream",
     "text": [
      "For vector 0, the most similar words are ['gmina', 'insee', 'householder', 'increment', 'peakposition', 'midst', 'outskirts', 'iucn', 'voivodeship', 'subtropical']\n",
      "For vector 0, the least similar words are ['was', 'with', 'is', 'as', 'for', 'to', 'in', 'of', 'and', 'the']\n",
      "For vector 1, the most similar words are ['fred', 'animal', 'names', 'normally', 'matt', 'zone', 'runs', 'hot', 'why', 'russell']\n",
      "For vector 1, the least similar words are ['is', 'by', 'as', 'with', 'for', 'to', 'in', 'of', 'and', 'the']\n",
      "For vector 2, the most similar words are ['circle', 'headquartered', 'nursery', 'constantinople', 'put', 'bravery', 'basement', 'conspiracy', 'burnt', 'serves']\n",
      "For vector 2, the least similar words are ['michael', 'thomas', 'george', 'jr', 'william', 'robert', 'david', 'james', 'john', 'born']\n",
      "For vector 3, the most similar words are ['range', 'empress', 'extensions', 'valued', 'horace', 'fisher', 'severely', 'elder', 'soil', 'witnessed']\n",
      "For vector 3, the least similar words are ['my', 'national', 'me', 'university', 'love', 'council', 'album', 'county', 'you', 'district']\n",
      "For vector 4, the most similar words are ['leipzig', 'demons', 'kuwait', 'comparable', 'offering', 'warren', 'wait', 'sharply', 'everett', 'transferring']\n",
      "For vector 4, the least similar words are ['lake', 'religious', 'river', 'road', 'near', 'social', 'located', 'km', 'jpg', 'political']\n"
     ]
    }
   ],
   "source": [
    "part1_c()"
   ]
  },
  {
   "cell_type": "code",
   "execution_count": 19,
   "metadata": {},
   "outputs": [],
   "source": [
    "norm_u = np.zeros((n, 100))\n",
    "for i in range(n):\n",
    "    norm_u[i] = u[i] / np.linalg.norm(u[i])"
   ]
  },
  {
   "cell_type": "code",
   "execution_count": 25,
   "metadata": {},
   "outputs": [],
   "source": [
    "def findword(w):\n",
    "    for i in range(n):\n",
    "        if dictionary[i] == w:\n",
    "            return i\n",
    "    return None"
   ]
  },
  {
   "cell_type": "code",
   "execution_count": 37,
   "metadata": {},
   "outputs": [],
   "source": [
    "def part1_d_1():\n",
    "    v1 = norm_u[findword(\"woman\")]\n",
    "    v2 = norm_u[findword(\"man\")]\n",
    "    v = v1 - v2\n",
    "    words = [\"boy\", \"girl\", \"brother\", \"sister\", \"king\", \"queen\", \"he\", \"she\", \"john\", \"mary\", \"wall\", \"tree\"]\n",
    "    for w in words:\n",
    "        vec = norm_u[findword(w)]\n",
    "        p = sum(v * vec)\n",
    "        plt.plot(p, 0, \".\", label = w)\n",
    "    plt.legend()\n",
    "    plt.savefig(\"part1_d_1.png\")\n",
    "    plt.show()"
   ]
  },
  {
   "cell_type": "code",
   "execution_count": 38,
   "metadata": {},
   "outputs": [
    {
     "data": {
      "image/png": "[encoded data removed]",
      "text/plain": [
       "<Figure size 432x288 with 1 Axes>"
      ]
     },
     "metadata": {},
     "output_type": "display_data"
    }
   ],
   "source": [
    "part1_d_1()"
   ]
  },
  {
   "cell_type": "code",
   "execution_count": 39,
   "metadata": {},
   "outputs": [],
   "source": [
    "def part1_d_2():\n",
    "    v1 = norm_u[findword(\"woman\")]\n",
    "    v2 = norm_u[findword(\"man\")]\n",
    "    v = v1 - v2\n",
    "    words = [\"math\", \"matrix\", \"history\", \"nurse\", \"doctor\", \"pilot\", \"teacher\", \"engineer\", \"science\", \"arts\", \"literature\", \"bob\", \"alice\"]\n",
    "    for w in words:\n",
    "        vec = norm_u[findword(w)]\n",
    "        p = sum(v * vec)\n",
    "        plt.plot(p, 0, \".\", label = w)\n",
    "    plt.legend()\n",
    "    plt.savefig(\"part1_d_2.png\")\n",
    "    plt.show()"
   ]
  },
  {
   "cell_type": "code",
   "execution_count": 40,
   "metadata": {},
   "outputs": [
    {
     "data": {
      "image/png": "[encoded data removed]",
      "text/plain": [
       "<Figure size 432x288 with 1 Axes>"
      ]
     },
     "metadata": {},
     "output_type": "display_data"
    }
   ],
   "source": [
    "part1_d_2()"
   ]
  },
  {
   "cell_type": "code",
   "execution_count": 41,
   "metadata": {},
   "outputs": [],
   "source": [
    "def cos_similarity(x, y):\n",
    "    return sum(x * y)"
   ]
  },
  {
   "cell_type": "code",
   "execution_count": 48,
   "metadata": {},
   "outputs": [],
   "source": [
    "def part1_e_1():\n",
    "    index = findword(\"stanford\")\n",
    "    w1 = norm_u[index]\n",
    "    dis = 0\n",
    "    pos = -1\n",
    "    for i in range(n):\n",
    "        if i == index:\n",
    "            continue\n",
    "        w2 = norm_u[i]\n",
    "        d = cos_similarity(w1, w2)\n",
    "        if d > dis:\n",
    "            dis = d\n",
    "            pos = i\n",
    "    return dictionary[pos]"
   ]
  },
  {
   "cell_type": "code",
   "execution_count": 49,
   "metadata": {},
   "outputs": [
    {
     "data": {
      "text/plain": [
       "'cornell'"
      ]
     },
     "execution_count": 49,
     "metadata": {},
     "output_type": "execute_result"
    }
   ],
   "source": [
    "part1_e_1()"
   ]
  },
  {
   "cell_type": "code",
   "execution_count": 87,
   "metadata": {},
   "outputs": [],
   "source": [
    "def guess_word(w1, w2, w3):\n",
    "    id1 = findword(w1)\n",
    "    id2 = findword(w2)\n",
    "    id3 = findword(w3)\n",
    "    w1 = norm_u[id1] - norm_u[id2] + norm_u[id3]\n",
    "#     dis, pos = 0, -1\n",
    "#     for i in range(n):\n",
    "#         if i == id1 or i == id2 or i == id3:\n",
    "#             continue\n",
    "#         w2 = norm_u[i]\n",
    "#         d = cos_similarity(w1, w2)\n",
    "#         if d > dis:\n",
    "#             dis = d\n",
    "#             pos = i\n",
    "    tmp = np.dot(norm_u, w1.T)\n",
    "    dis, pos = 0, -1\n",
    "    for i in range(n):\n",
    "        if i == id1 or i == id2 or i == id3:\n",
    "            continue\n",
    "        if tmp[i] > dis:\n",
    "            dis = tmp[i]\n",
    "            pos = i\n",
    "    return dictionary[pos]"
   ]
  },
  {
   "cell_type": "code",
   "execution_count": null,
   "metadata": {},
   "outputs": [],
   "source": []
  },
  {
   "cell_type": "code",
   "execution_count": 88,
   "metadata": {},
   "outputs": [
    {
     "data": {
      "text/plain": [
       "'queen'"
      ]
     },
     "execution_count": 88,
     "metadata": {},
     "output_type": "execute_result"
    }
   ],
   "source": [
    "guess_word(\"woman\", \"man\", \"king\")"
   ]
  },
  {
   "cell_type": "code",
   "execution_count": 74,
   "metadata": {},
   "outputs": [],
   "source": [
    "def part1_e_2():\n",
    "    with open(\"analogy_task.txt\") as f:\n",
    "        ls = f.readlines()\n",
    "        tot, right = 0, 0\n",
    "        for l in ls:\n",
    "            tot += 1\n",
    "            ws = l.strip().split()\n",
    "            guess = guess_word(ws[1], ws[0], ws[2])\n",
    "            if guess == ws[3]:\n",
    "                right += 1\n",
    "            if tot < 10:\n",
    "                print(tot, \"True answer is {}, you guess {}\".format(ws[3], guess))\n",
    "            if tot % 100 == 0:\n",
    "                print(tot)\n",
    "        return right / tot"
   ]
  },
  {
   "cell_type": "code",
   "execution_count": 89,
   "metadata": {},
   "outputs": [
    {
     "name": "stdout",
     "output_type": "stream",
     "text": [
      "1 True answer is thailand, you guess thailand\n",
      "2 True answer is china, you guess korea\n",
      "3 True answer is germany, you guess germany\n",
      "4 True answer is egypt, you guess morocco\n",
      "5 True answer is australia, you guess iceland\n",
      "6 True answer is finland, you guess iceland\n",
      "7 True answer is england, you guess ireland\n",
      "8 True answer is spain, you guess argentina\n",
      "9 True answer is russia, you guess russia\n",
      "100\n",
      "200\n",
      "300\n",
      "400\n",
      "500\n",
      "600\n",
      "700\n",
      "800\n",
      "900\n",
      "1000\n",
      "1100\n",
      "1200\n",
      "1300\n",
      "1400\n",
      "1500\n",
      "1600\n",
      "1700\n",
      "1800\n",
      "1900\n",
      "2000\n",
      "2100\n",
      "2200\n",
      "2300\n",
      "2400\n",
      "2500\n",
      "2600\n",
      "2700\n",
      "2800\n",
      "2900\n",
      "3000\n",
      "3100\n",
      "3200\n",
      "3300\n",
      "3400\n",
      "3500\n",
      "3600\n",
      "3700\n",
      "3800\n",
      "3900\n",
      "4000\n",
      "4100\n",
      "4200\n",
      "4300\n",
      "4400\n",
      "4500\n",
      "4600\n",
      "4700\n",
      "4800\n",
      "4900\n",
      "5000\n",
      "5100\n",
      "5200\n",
      "5300\n",
      "5400\n",
      "5500\n"
     ]
    },
    {
     "data": {
      "text/plain": [
       "0.5498657117278425"
      ]
     },
     "execution_count": 89,
     "metadata": {},
     "output_type": "execute_result"
    }
   ],
   "source": [
    "part1_e_2()"
   ]
  },
  {
   "cell_type": "code",
   "execution_count": null,
   "metadata": {},
   "outputs": [],
   "source": []
  }
 ],
 "metadata": {
  "kernelspec": {
   "display_name": "Python 3",
   "language": "python",
   "name": "python3"
  },
  "language_info": {
   "codemirror_mode": {
    "name": "ipython",
    "version": 3
   },
   "file_extension": ".py",
   "mimetype": "text/x-python",
   "name": "python",
   "nbconvert_exporter": "python",
   "pygments_lexer": "ipython3",
   "version": "3.6.1"
  }
 },
 "nbformat": 4,
 "nbformat_minor": 2
}
